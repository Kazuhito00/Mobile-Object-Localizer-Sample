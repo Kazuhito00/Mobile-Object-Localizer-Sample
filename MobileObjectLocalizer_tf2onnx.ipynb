{
  "nbformat": 4,
  "nbformat_minor": 0,
  "metadata": {
    "colab": {
      "name": "MobileObjectLocalizer_tf2onnx.ipynb",
      "provenance": [],
      "collapsed_sections": []
    },
    "kernelspec": {
      "name": "python3",
      "display_name": "Python 3"
    },
    "language_info": {
      "name": "python"
    }
  },
  "cells": [
    {
      "cell_type": "markdown",
      "metadata": {
        "id": "XL5ZIKOP_R7_"
      },
      "source": [
        "# パッケージインストール(Package install)"
      ]
    },
    {
      "cell_type": "code",
      "metadata": {
        "id": "K9btfs1u_Htr",
        "colab": {
          "base_uri": "https://localhost:8080/"
        },
        "outputId": "0dd637dc-a797-4e95-ff40-a63dee64deae"
      },
      "source": [
        "!pip install -U tf2onnx\n",
        "!pip install onnxruntime"
      ],
      "execution_count": 1,
      "outputs": [
        {
          "output_type": "stream",
          "name": "stdout",
          "text": [
            "Collecting tf2onnx\n",
            "  Downloading tf2onnx-1.9.2-py3-none-any.whl (430 kB)\n",
            "\u001b[K     |████████████████████████████████| 430 kB 5.2 MB/s \n",
            "\u001b[?25hRequirement already satisfied: numpy>=1.14.1 in /usr/local/lib/python3.7/dist-packages (from tf2onnx) (1.19.5)\n",
            "Requirement already satisfied: flatbuffers~=1.12 in /usr/local/lib/python3.7/dist-packages (from tf2onnx) (1.12)\n",
            "Collecting onnx>=1.4.1\n",
            "  Downloading onnx-1.10.1-cp37-cp37m-manylinux_2_12_x86_64.manylinux2010_x86_64.whl (12.3 MB)\n",
            "\u001b[K     |████████████████████████████████| 12.3 MB 177 kB/s \n",
            "\u001b[?25hRequirement already satisfied: six in /usr/local/lib/python3.7/dist-packages (from tf2onnx) (1.15.0)\n",
            "Requirement already satisfied: requests in /usr/local/lib/python3.7/dist-packages (from tf2onnx) (2.23.0)\n",
            "Requirement already satisfied: typing-extensions>=3.6.2.1 in /usr/local/lib/python3.7/dist-packages (from onnx>=1.4.1->tf2onnx) (3.7.4.3)\n",
            "Requirement already satisfied: protobuf in /usr/local/lib/python3.7/dist-packages (from onnx>=1.4.1->tf2onnx) (3.17.3)\n",
            "Requirement already satisfied: urllib3!=1.25.0,!=1.25.1,<1.26,>=1.21.1 in /usr/local/lib/python3.7/dist-packages (from requests->tf2onnx) (1.24.3)\n",
            "Requirement already satisfied: certifi>=2017.4.17 in /usr/local/lib/python3.7/dist-packages (from requests->tf2onnx) (2021.5.30)\n",
            "Requirement already satisfied: idna<3,>=2.5 in /usr/local/lib/python3.7/dist-packages (from requests->tf2onnx) (2.10)\n",
            "Requirement already satisfied: chardet<4,>=3.0.2 in /usr/local/lib/python3.7/dist-packages (from requests->tf2onnx) (3.0.4)\n",
            "Installing collected packages: onnx, tf2onnx\n",
            "Successfully installed onnx-1.10.1 tf2onnx-1.9.2\n",
            "Collecting onnxruntime\n",
            "  Downloading onnxruntime-1.8.1-cp37-cp37m-manylinux_2_17_x86_64.manylinux2014_x86_64.whl (4.5 MB)\n",
            "\u001b[K     |████████████████████████████████| 4.5 MB 5.1 MB/s \n",
            "\u001b[?25hRequirement already satisfied: protobuf in /usr/local/lib/python3.7/dist-packages (from onnxruntime) (3.17.3)\n",
            "Requirement already satisfied: flatbuffers in /usr/local/lib/python3.7/dist-packages (from onnxruntime) (1.12)\n",
            "Requirement already satisfied: numpy>=1.16.6 in /usr/local/lib/python3.7/dist-packages (from onnxruntime) (1.19.5)\n",
            "Requirement already satisfied: six>=1.9 in /usr/local/lib/python3.7/dist-packages (from protobuf->onnxruntime) (1.15.0)\n",
            "Installing collected packages: onnxruntime\n",
            "Successfully installed onnxruntime-1.8.1\n"
          ]
        }
      ]
    },
    {
      "cell_type": "markdown",
      "metadata": {
        "id": "tR8xMD6Z_VLS"
      },
      "source": [
        "# Saved Model ファイルダウンロード(Saved Model file download)"
      ]
    },
    {
      "cell_type": "code",
      "metadata": {
        "id": "kx__hWSm_OaE"
      },
      "source": [
        "!wget -q -O object_detection_mobile_object_localizer_v1_1_default_1.tflite https://tfhub.dev/google/lite-model/object_detection/mobile_object_localizer_v1/1/default/1?lite-format=tflite"
      ],
      "execution_count": 2,
      "outputs": []
    },
    {
      "cell_type": "markdown",
      "metadata": {
        "id": "gOSwwicjBkPS"
      },
      "source": [
        "# tfliteからONNXへ変換(Convert from tflite to ONNX)"
      ]
    },
    {
      "cell_type": "code",
      "metadata": {
        "id": "C8qXrQf4Aj8a",
        "colab": {
          "base_uri": "https://localhost:8080/"
        },
        "outputId": "97d9b91d-2e02-40b4-e1d2-4fa5459c89d5"
      },
      "source": [
        "!python -m tf2onnx.convert --opset 11 \\\n",
        "    --tflite object_detection_mobile_object_localizer_v1_1_default_1.tflite \\\n",
        "    --output object_detection_mobile_object_localizer_v1_1_default_1.onnx"
      ],
      "execution_count": 3,
      "outputs": [
        {
          "output_type": "stream",
          "name": "stdout",
          "text": [
            "/usr/lib/python3.7/runpy.py:125: RuntimeWarning: 'tf2onnx.convert' found in sys.modules after import of package 'tf2onnx', but prior to execution of 'tf2onnx.convert'; this may result in unpredictable behaviour\n",
            "  warn(RuntimeWarning(msg))\n",
            "2021-09-19 01:04:03,643 - INFO - Using tensorflow=2.6.0, onnx=1.10.1, tf2onnx=1.9.2/0f28b7\n",
            "2021-09-19 01:04:03,643 - INFO - Using opset <onnx, 11>\n",
            "2021-09-19 01:04:04,436 - WARNING - NMS node TFLite_Detection_PostProcess uses fast NMS. ONNX will approximate with standard NMS.\n",
            "2021-09-19 01:04:04,519 - INFO - Optimizing ONNX model\n",
            "2021-09-19 01:04:09,953 - INFO - After optimization: Cast -14 (18->4), Const -568 (1065->497), DequantizeLinear -12 (292->280), Identity -4 (4->0), QuantizeLinear -4 (114->110), Reshape -32 (46->14), Transpose -344 (353->9)\n",
            "2021-09-19 01:04:10,037 - INFO - \n",
            "2021-09-19 01:04:10,037 - INFO - Successfully converted TensorFlow model object_detection_mobile_object_localizer_v1_1_default_1.tflite to ONNX\n",
            "2021-09-19 01:04:10,037 - INFO - Model inputs: ['normalized_input_image_tensor']\n",
            "2021-09-19 01:04:10,037 - INFO - Model outputs: ['TFLite_Detection_PostProcess', 'TFLite_Detection_PostProcess:1', 'TFLite_Detection_PostProcess:2', 'TFLite_Detection_PostProcess:3']\n",
            "2021-09-19 01:04:10,037 - INFO - ONNX model is saved at object_detection_mobile_object_localizer_v1_1_default_1.onnx\n"
          ]
        }
      ]
    },
    {
      "cell_type": "markdown",
      "metadata": {
        "id": "IFsxMcfWLYSA"
      },
      "source": [
        "# ONNX最適化"
      ]
    },
    {
      "cell_type": "code",
      "metadata": {
        "id": "Y7WVUTvVLZ2K",
        "colab": {
          "base_uri": "https://localhost:8080/"
        },
        "outputId": "3cdb9006-2dd2-4d82-f83d-ebba7872b8f8"
      },
      "source": [
        "!pip install onnx-simplifier"
      ],
      "execution_count": 4,
      "outputs": [
        {
          "output_type": "stream",
          "name": "stdout",
          "text": [
            "Collecting onnx-simplifier\n",
            "  Downloading onnx-simplifier-0.3.6.tar.gz (13 kB)\n",
            "Requirement already satisfied: onnx in /usr/local/lib/python3.7/dist-packages (from onnx-simplifier) (1.10.1)\n",
            "Collecting onnxoptimizer>=0.2.5\n",
            "  Downloading onnxoptimizer-0.2.6-cp37-cp37m-manylinux2014_x86_64.whl (466 kB)\n",
            "\u001b[K     |████████████████████████████████| 466 kB 5.1 MB/s \n",
            "\u001b[?25hRequirement already satisfied: onnxruntime>=1.6.0 in /usr/local/lib/python3.7/dist-packages (from onnx-simplifier) (1.8.1)\n",
            "Requirement already satisfied: protobuf>=3.7.0 in /usr/local/lib/python3.7/dist-packages (from onnx-simplifier) (3.17.3)\n",
            "Requirement already satisfied: flatbuffers in /usr/local/lib/python3.7/dist-packages (from onnxruntime>=1.6.0->onnx-simplifier) (1.12)\n",
            "Requirement already satisfied: numpy>=1.16.6 in /usr/local/lib/python3.7/dist-packages (from onnxruntime>=1.6.0->onnx-simplifier) (1.19.5)\n",
            "Requirement already satisfied: six>=1.9 in /usr/local/lib/python3.7/dist-packages (from protobuf>=3.7.0->onnx-simplifier) (1.15.0)\n",
            "Requirement already satisfied: typing-extensions>=3.6.2.1 in /usr/local/lib/python3.7/dist-packages (from onnx->onnx-simplifier) (3.7.4.3)\n",
            "Building wheels for collected packages: onnx-simplifier\n",
            "  Building wheel for onnx-simplifier (setup.py) ... \u001b[?25l\u001b[?25hdone\n",
            "  Created wheel for onnx-simplifier: filename=onnx_simplifier-0.3.6-py3-none-any.whl size=12873 sha256=4739190ce26c751b110df1f36bee9320dfa0b787668c7984ce29abb654ba61f3\n",
            "  Stored in directory: /root/.cache/pip/wheels/0c/47/80/8eb21098e22c19d60b1c14021ee67442b4ad2d7991fdad46ba\n",
            "Successfully built onnx-simplifier\n",
            "Installing collected packages: onnxoptimizer, onnx-simplifier\n",
            "Successfully installed onnx-simplifier-0.3.6 onnxoptimizer-0.2.6\n"
          ]
        }
      ]
    },
    {
      "cell_type": "code",
      "metadata": {
        "id": "syCX-O9TLbf2",
        "colab": {
          "base_uri": "https://localhost:8080/"
        },
        "outputId": "59274411-7f35-468b-c918-ef61f97b333b"
      },
      "source": [
        "!python -m onnxsim \\\n",
        "    object_detection_mobile_object_localizer_v1_1_default_1.onnx \\\n",
        "    object_detection_mobile_object_localizer_v1_1_default_1.onnx"
      ],
      "execution_count": 5,
      "outputs": [
        {
          "output_type": "stream",
          "name": "stdout",
          "text": [
            "Simplifying...\n",
            "Checking 0/3...\n",
            "Checking 1/3...\n",
            "Checking 2/3...\n",
            "Ok!\n"
          ]
        }
      ]
    },
    {
      "cell_type": "markdown",
      "metadata": {
        "id": "7idFiuPpBpk6"
      },
      "source": [
        "# 入力詳細・出力詳細確認(Check Input details & Output details)"
      ]
    },
    {
      "cell_type": "code",
      "metadata": {
        "id": "KBeEQlxLBcbY"
      },
      "source": [
        "import onnxruntime"
      ],
      "execution_count": 6,
      "outputs": []
    },
    {
      "cell_type": "code",
      "metadata": {
        "colab": {
          "base_uri": "https://localhost:8080/"
        },
        "id": "pUY9K-amBvqe",
        "outputId": "31acf9bb-e2ab-4ac1-983d-2cb046c4e560"
      },
      "source": [
        "onnx_session = onnxruntime.InferenceSession('object_detection_mobile_object_localizer_v1_1_default_1.onnx')\n",
        "input_detail = onnx_session.get_inputs()\n",
        "output_detail = onnx_session.get_outputs()\n",
        "\n",
        "print(len(input_detail), len(output_detail))\n",
        "print(input_detail[0])\n",
        "print(output_detail[0])\n",
        "print(output_detail[1])\n",
        "print(output_detail[2])\n",
        "print(output_detail[3])"
      ],
      "execution_count": 7,
      "outputs": [
        {
          "output_type": "stream",
          "name": "stdout",
          "text": [
            "1 4\n",
            "NodeArg(name='normalized_input_image_tensor', type='tensor(uint8)', shape=[1, 192, 192, 3])\n",
            "NodeArg(name='TFLite_Detection_PostProcess', type='tensor(float)', shape=[1, 100, 4])\n",
            "NodeArg(name='TFLite_Detection_PostProcess:1', type='tensor(float)', shape=[1, 100])\n",
            "NodeArg(name='TFLite_Detection_PostProcess:2', type='tensor(float)', shape=[1, 100])\n",
            "NodeArg(name='TFLite_Detection_PostProcess:3', type='tensor(float)', shape=[1])\n"
          ]
        }
      ]
    },
    {
      "cell_type": "code",
      "metadata": {
        "id": "uDfu3PGsLmVd"
      },
      "source": [
        ""
      ],
      "execution_count": 7,
      "outputs": []
    }
  ]
}